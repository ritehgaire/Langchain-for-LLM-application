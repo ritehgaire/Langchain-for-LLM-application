{
 "cells": [
  {
   "cell_type": "raw",
   "id": "352cd06e-3deb-466d-ace3-1e492ecdff0a",
   "metadata": {},
   "source": [
    "Cell 1: Setup the environment\n"
   ]
  },
  {
   "cell_type": "markdown",
   "id": "b4282f1c-546e-4abd-89e2-0e0e70227b0c",
   "metadata": {},
   "source": [
    "Load environment variables and select the correct LLM model based on the current date. This ensures the application uses the most recent and accurate language model."
   ]
  },
  {
   "cell_type": "code",
   "execution_count": null,
   "id": "3d6500dd-9d16-44d5-b062-49878688c948",
   "metadata": {},
   "outputs": [],
   "source": [
    "# Import necessary modules\n",
    "import os\n",
    "from dotenv import load_dotenv, find_dotenv\n",
    "\n",
    "# Load environment variables from a .env file\n",
    "_ = load_dotenv(find_dotenv())  # Load .env file\n",
    "\n",
    "# Suppress warnings related to deprecated functions or modules\n",
    "import warnings\n",
    "warnings.filterwarnings(\"ignore\")\n",
    "\n",
    "# Handle model deprecation based on the current date\n",
    "import datetime\n",
    "\n",
    "# Get the current date\n",
    "current_date = datetime.datetime.now().date()\n",
    "\n",
    "# Define a target date after which a newer model should be used\n",
    "target_date = datetime.date(2024, 6, 12)\n",
    "\n",
    "# Conditionally set the LLM model based on the current date\n",
    "if current_date > target_date:\n",
    "    llm_model = \"gpt-3.5-turbo\"\n",
    "else:\n",
    "    llm_model = \"gpt-3.5-turbo-0301\"\n"
   ]
  },
  {
   "cell_type": "code",
   "execution_count": null,
   "id": "b9eb9910-b1db-4302-864d-f8948eade03e",
   "metadata": {},
   "outputs": [],
   "source": []
  },
  {
   "cell_type": "markdown",
   "id": "b78d056e-24a6-4865-99fe-568d9f436bb3",
   "metadata": {},
   "source": [
    "Cell 2: Using Built-in LangChain Tools\n"
   ]
  },
  {
   "cell_type": "markdown",
   "id": "8c2579e9-dd8b-46bc-9588-2844d8dc2dbd",
   "metadata": {},
   "source": [
    "Demonstrate how to use built-in LangChain tools, such as Wikipedia and LLM-powered math tools, for performing simple tasks."
   ]
  },
  {
   "cell_type": "code",
   "execution_count": null,
   "id": "b11ee278-f3e3-422a-aed5-d836be396528",
   "metadata": {},
   "outputs": [],
   "source": [
    "# Install necessary modules if not already installed\n",
    "# !pip install -U wikipedia\n",
    "\n",
    "# Import LangChain agent toolkits and tools\n",
    "from langchain.agents.agent_toolkits import create_python_agent\n",
    "from langchain.agents import load_tools, initialize_agent\n",
    "from langchain.agents import AgentType\n",
    "from langchain.chat_models import ChatOpenAI\n",
    "\n",
    "# Initialize the LLM\n",
    "llm = ChatOpenAI(temperature=0, model=llm_model)\n",
    "\n",
    "# Load built-in LangChain tools (Wikipedia and LLM math)\n",
    "tools = load_tools([\"llm-math\", \"wikipedia\"], llm=llm)\n",
    "\n",
    "# Initialize an agent that uses these tools\n",
    "agent = initialize_agent(\n",
    "    tools, \n",
    "    llm, \n",
    "    agent=AgentType.CHAT_ZERO_SHOT_REACT_DESCRIPTION,\n",
    "    handle_parsing_errors=True,  # Handles parsing issues gracefully\n",
    "    verbose=True  # Show detailed steps taken by the agent\n",
    ")\n",
    "\n",
    "# Example usage: calculating 25% of 300\n",
    "agent(\"What is the 25% of 300?\")\n"
   ]
  },
  {
   "cell_type": "code",
   "execution_count": null,
   "id": "e4d9d0d3-f10e-4527-8255-9dc388064dc2",
   "metadata": {},
   "outputs": [],
   "source": []
  },
  {
   "cell_type": "markdown",
   "id": "dac29650-bd64-4da7-9fda-6a3a950cc2c3",
   "metadata": {},
   "source": [
    "Cell 3: Wikipedia Example\n"
   ]
  },
  {
   "cell_type": "markdown",
   "id": "6cded9ac-585d-41d9-b7b9-80695155e45b",
   "metadata": {},
   "source": [
    "Use the agent to answer a question that requires searching Wikipedia. This showcases the integration of external knowledge sources."
   ]
  },
  {
   "cell_type": "code",
   "execution_count": null,
   "id": "7fdb562a-bbe5-45fd-b2d6-09d658c17c5c",
   "metadata": {},
   "outputs": [],
   "source": [
    "# Query the agent using Wikipedia for an answer\n",
    "question = \"Tom M. Mitchell is an American computer scientist \\\n",
    "and the Founders University Professor at Carnegie Mellon University (CMU). \\\n",
    "What book did he write?\"\n",
    "result = agent(question)\n"
   ]
  },
  {
   "cell_type": "code",
   "execution_count": null,
   "id": "d52342fb-054c-481d-b271-c32e26438761",
   "metadata": {},
   "outputs": [],
   "source": []
  },
  {
   "cell_type": "markdown",
   "id": "57ddc958-2ed3-41f8-837e-bd5040e65a49",
   "metadata": {},
   "source": [
    "Cell 4: Python Agent for Custom Tasks\n"
   ]
  },
  {
   "cell_type": "markdown",
   "id": "17bc08d0-586a-4679-8c29-f5a2ed3558f8",
   "metadata": {},
   "source": [
    "Create a Python agent using PythonREPLTool that can execute Python code. This is helpful for tasks like sorting lists, calculations, and more complex Python operations.\n",
    "\n"
   ]
  },
  {
   "cell_type": "code",
   "execution_count": null,
   "id": "ce0a4bba-bf04-42e2-90f1-5e04212c2595",
   "metadata": {},
   "outputs": [],
   "source": [
    "# Import the necessary tools for Python execution\n",
    "from langchain.tools.python.tool import PythonREPLTool\n",
    "from langchain.python import PythonREPL\n",
    "\n",
    "# Create a Python agent\n",
    "agent = create_python_agent(\n",
    "    llm, \n",
    "    tool=PythonREPLTool(), \n",
    "    verbose=True  # Show detailed output\n",
    ")\n",
    "\n",
    "# Create a customer list for sorting\n",
    "customer_list = [[\"Harrison\", \"Chase\"], \n",
    "                 [\"Lang\", \"Chain\"],\n",
    "                 [\"Dolly\", \"Too\"],\n",
    "                 [\"Elle\", \"Elem\"], \n",
    "                 [\"Geoff\", \"Fusion\"], \n",
    "                 [\"Trance\", \"Former\"],\n",
    "                 [\"Jen\", \"Ayai\"]]\n",
    "\n",
    "# Run the agent to sort the customers by last name, then first name\n",
    "agent.run(f\"\"\"Sort these customers by last name and then first name \\\n",
    "and print the output: {customer_list}\"\"\")\n"
   ]
  },
  {
   "cell_type": "code",
   "execution_count": null,
   "id": "08904267-dc54-4eb5-902f-b478c3e14a8e",
   "metadata": {},
   "outputs": [],
   "source": []
  },
  {
   "cell_type": "markdown",
   "id": "a97634a8-9c23-45e8-9a1c-ece92a769e07",
   "metadata": {},
   "source": [
    "Cell 5: View Detailed Outputs of the Chains\n"
   ]
  },
  {
   "cell_type": "markdown",
   "id": "4a86929b-b56f-466b-86ec-bbf91a224ee0",
   "metadata": {},
   "source": [
    "Enable debug mode to view detailed outputs of the chains in LangChain, showing how decisions are made step by step."
   ]
  },
  {
   "cell_type": "code",
   "execution_count": null,
   "id": "c55ce808-d37a-42f3-ad78-95e8bb3d64e9",
   "metadata": {},
   "outputs": [],
   "source": [
    "# Enable debug mode for detailed chain outputs\n",
    "import langchain\n",
    "langchain.debug = True\n",
    "\n",
    "# Re-run the customer sorting task with debugging enabled\n",
    "agent.run(f\"\"\"Sort these customers by last name and then first name \\\n",
    "and print the output: {customer_list}\"\"\")\n",
    "\n",
    "# Turn off the debug mode after use\n",
    "langchain.debug = False\n"
   ]
  },
  {
   "cell_type": "code",
   "execution_count": null,
   "id": "004e4e84-49a7-48df-a56c-1f791f7fb526",
   "metadata": {},
   "outputs": [],
   "source": []
  },
  {
   "cell_type": "markdown",
   "id": "c5aa062e-2ac9-46ab-ad57-2927f6eb5743",
   "metadata": {},
   "source": [
    "Cell 6: Defining Your Own Tool\n"
   ]
  },
  {
   "cell_type": "markdown",
   "id": "11b17c66-498f-4693-9e6e-b2299fc740c3",
   "metadata": {},
   "source": [
    "Define a custom tool in LangChain for querying the current date. This demonstrates how to extend the functionality of LangChain by creating your own tools."
   ]
  },
  {
   "cell_type": "code",
   "execution_count": null,
   "id": "dce6bd0e-603c-4bab-837d-1a61328189bf",
   "metadata": {},
   "outputs": [],
   "source": [
    "# Install DateTime module if not already installed\n",
    "# !pip install DateTime\n",
    "\n",
    "# Import necessary modules\n",
    "from langchain.agents import tool\n",
    "from datetime import date\n",
    "\n",
    "# Define a custom tool that returns today's date\n",
    "@tool\n",
    "def time(text: str) -> str:\n",
    "    \"\"\"Returns today's date. \n",
    "    The input should always be an empty string, \n",
    "    and this function will return today's date.\"\"\"\n",
    "    return str(date.today())\n",
    "\n",
    "# Add the custom tool to the agent and initialize it\n",
    "agent = initialize_agent(\n",
    "    tools + [time],  # Add the custom time tool\n",
    "    llm, \n",
    "    agent=AgentType.CHAT_ZERO_SHOT_REACT_DESCRIPTION,\n",
    "    handle_parsing_errors=True,\n",
    "    verbose=True  # Show detailed steps\n",
    ")\n",
    "\n",
    "# Run the agent with the new tool for querying the date\n",
    "try:\n",
    "    result = agent(\"What's the date today?\")\n",
    "    print(result)\n",
    "except:\n",
    "    print(\"Exception on external access.\")\n"
   ]
  },
  {
   "cell_type": "code",
   "execution_count": null,
   "id": "c6aa9918-3ab0-4bd5-af88-592f7fe3d869",
   "metadata": {},
   "outputs": [],
   "source": []
  },
  {
   "cell_type": "markdown",
   "id": "00c251b3-9fcc-4fc9-939b-c01103415c37",
   "metadata": {},
   "source": [
    "Explanation:\n",
    "Cells 1-2: Set up the environment and demonstrate using built-in LangChain tools (Wikipedia, math).\n",
    "\n",
    "Cell 3: Run an example where the agent searches for information about Tom M. Mitchell using Wikipedia.\n",
    "\n",
    "Cell 4: Introduce a Python agent to execute Python code and show how to perform tasks like sorting lists.\n",
    "\n",
    "Cell 5: Use debug mode to examine the detailed inner workings of the agent and trace how it makes decisions.\n",
    "\n",
    "Cell 6: Define a custom tool to return the current date and integrate it into the LangChain agent."
   ]
  },
  {
   "cell_type": "code",
   "execution_count": null,
   "id": "db4f9205-5a69-46d7-9be5-09c84c5fdb2c",
   "metadata": {},
   "outputs": [],
   "source": []
  },
  {
   "cell_type": "markdown",
   "id": "b0d6d3fa-a4b5-4c99-a221-bbe6ce1c008c",
   "metadata": {},
   "source": [
    "Suggestions for further improvements:\n",
    "a. Add more advanced tools to interact with APIs, databases, or other external resources for real-time data retrieval.\n",
    "b. Implement error handling for edge cases where the agent might misinterpret the input or fail to process the query correctly."
   ]
  },
  {
   "cell_type": "code",
   "execution_count": null,
   "id": "885f10b7-1977-4256-9722-478eecc66bc2",
   "metadata": {},
   "outputs": [],
   "source": []
  }
 ],
 "metadata": {
  "kernelspec": {
   "display_name": "Python 3 (ipykernel)",
   "language": "python",
   "name": "python3"
  },
  "language_info": {
   "codemirror_mode": {
    "name": "ipython",
    "version": 3
   },
   "file_extension": ".py",
   "mimetype": "text/x-python",
   "name": "python",
   "nbconvert_exporter": "python",
   "pygments_lexer": "ipython3",
   "version": "3.11.5"
  }
 },
 "nbformat": 4,
 "nbformat_minor": 5
}
